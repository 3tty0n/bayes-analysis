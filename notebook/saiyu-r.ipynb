{
 "cells": [
  {
   "cell_type": "code",
   "execution_count": 2,
   "metadata": {
    "collapsed": true
   },
   "outputs": [],
   "source": [
    "%load_ext rpy2.ipython"
   ]
  },
  {
   "cell_type": "code",
   "execution_count": 3,
   "metadata": {
    "collapsed": false
   },
   "outputs": [],
   "source": [
    "%%R\n",
    "data = read.csv(file(\"../data/data_example1.csv\", encoding=\"Shift_JIS\"))"
   ]
  },
  {
   "cell_type": "code",
   "execution_count": 4,
   "metadata": {
    "collapsed": false
   },
   "outputs": [
    {
     "data": {
      "text/plain": [
       "   都道府県          名称 総人口 金融保険業人口 kakou_jinkou kakou_kinyu\n",
       "1         1 札幌市 中央区 220189           3742     0.440378      0.3742\n",
       "2         1   札幌市 北区 278781           2952     0.557562      0.2952\n",
       "3         1   札幌市 東区 255873           2405     0.511746      0.2405\n",
       "4         1 札幌市 白石区 204259           1993     0.408518      0.1993\n",
       "5         1 札幌市 豊平区 212118           2944     0.424236      0.2944\n",
       "6         1   札幌市 南区 146341           1855     0.292682      0.1855\n",
       "7         1   札幌市 西区 211229           2320     0.422458      0.2320\n",
       "8         1 札幌市 厚別区 128492           1807     0.256984      0.1807\n",
       "9         1 札幌市 手稲区 139644           1322     0.279288      0.1322\n",
       "10        1 札幌市 清田区 116619           1361     0.233238      0.1361\n"
      ]
     },
     "metadata": {},
     "output_type": "display_data"
    }
   ],
   "source": [
    "%%R\n",
    "sapporo <- subset(data, 都道府県 == 1)\n",
    "sapporo <- transform(sapporo, kakou_jinkou=sapporo$総人口/500000)\n",
    "sapporo <- transform(sapporo, kakou_kinyu=sapporo$金融保険業人口/10000)\n",
    "sapporo"
   ]
  },
  {
   "cell_type": "code",
   "execution_count": 5,
   "metadata": {
    "collapsed": false
   },
   "outputs": [],
   "source": [
    "%%R\n",
    "H1 = sum(sapporo$kakou_jinkou^2)\n",
    "H2 = sum(sapporo$kakou_jinkou)\n",
    "H3 = H2\n",
    "H4 = length(sapporo$kakou_jinkou)"
   ]
  },
  {
   "cell_type": "code",
   "execution_count": 7,
   "metadata": {
    "collapsed": false
   },
   "outputs": [
    {
     "data": {
      "text/plain": [
       "         [,1]     [,2]\n",
       "[1,] 1.576131  3.82709\n",
       "[2,] 3.827090 10.00000\n",
       "          [,1]\n",
       "[1,] 0.9261747\n",
       "[2,] 2.2701000\n",
       "[1] 0.5148225\n",
       "[1] 0.02998281\n"
      ]
     },
     "metadata": {},
     "output_type": "display_data"
    }
   ],
   "source": [
    "%%R\n",
    "v1 = sum(sapporo$kakou_jinkou * sapporo$kakou_kinyu)\n",
    "v2 = sum(sapporo$kakou_kinyu)\n",
    "\n",
    "H = matrix(c(H1, H2, H3, H4), 2, 2)\n",
    "v = matrix(c(v1, v2), 2, 1)\n",
    "\n",
    "print(H)\n",
    "\n",
    "print(v)\n",
    "\n",
    "HInv = solve(H)\n",
    "\n",
    "result = crossprod(HInv, v)\n",
    "\n",
    "a = result[1]\n",
    "b = result[2]"
   ]
  },
  {
   "cell_type": "code",
   "execution_count": 8,
   "metadata": {
    "collapsed": false
   },
   "outputs": [
    {
     "data": {
      "text/plain": [
       "[1] 0.5148225\n"
      ]
     },
     "metadata": {},
     "output_type": "display_data"
    }
   ],
   "source": [
    "%%R\n",
    "a"
   ]
  },
  {
   "cell_type": "code",
   "execution_count": 9,
   "metadata": {
    "collapsed": false
   },
   "outputs": [
    {
     "data": {
      "text/plain": [
       "[1] 0.02998281\n"
      ]
     },
     "metadata": {},
     "output_type": "display_data"
    }
   ],
   "source": [
    "%%R\n",
    "b"
   ]
  },
  {
   "cell_type": "code",
   "execution_count": null,
   "metadata": {
    "collapsed": true
   },
   "outputs": [],
   "source": []
  }
 ],
 "metadata": {
  "kernelspec": {
   "display_name": "Python 3",
   "language": "python",
   "name": "python3"
  },
  "language_info": {
   "codemirror_mode": {
    "name": "ipython",
    "version": 3
   },
   "file_extension": ".py",
   "mimetype": "text/x-python",
   "name": "python",
   "nbconvert_exporter": "python",
   "pygments_lexer": "ipython3",
   "version": "3.5.2"
  }
 },
 "nbformat": 4,
 "nbformat_minor": 2
}
